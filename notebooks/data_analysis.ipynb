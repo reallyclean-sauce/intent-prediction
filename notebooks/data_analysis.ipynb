{
 "cells": [
  {
   "cell_type": "markdown",
   "metadata": {},
   "source": [
    "## Exploratory Data Analysis"
   ]
  },
  {
   "cell_type": "markdown",
   "metadata": {},
   "source": [
    "Goal: Determine the instruction to get the format for metadata needed for extracting the ground truth."
   ]
  },
  {
   "cell_type": "markdown",
   "metadata": {},
   "source": [
    "#### Extracting head data from csv file"
   ]
  },
  {
   "cell_type": "code",
   "execution_count": 1,
   "metadata": {},
   "outputs": [],
   "source": [
    "# Magic Functions\n",
    "%matplotlib inline\n",
    "\n",
    "# Import Libraries for data EDA\n",
    "import pandas as pd\n",
    "import numpy as np\n",
    "import os\n",
    "import json\n",
    "import matplotlib.pyplot as plt\n",
    "\n",
    "from skimage import io, data, transform\n",
    "from skimage.filters import threshold_otsu\n",
    "from skimage.segmentation import clear_border\n",
    "from skimage.measure import label, regionprops\n",
    "from skimage.morphology import closing, square\n",
    "from skimage.color import label2rgb"
   ]
  },
  {
   "cell_type": "code",
   "execution_count": 16,
   "metadata": {},
   "outputs": [],
   "source": [
    "# Read the data\n",
    "head_data = pd.read_csv('../dsp_intent_analyzer_dataset/head_data.csv')"
   ]
  },
  {
   "cell_type": "code",
   "execution_count": 17,
   "metadata": {},
   "outputs": [
    {
     "data": {
      "text/html": [
       "<div>\n",
       "<style scoped>\n",
       "    .dataframe tbody tr th:only-of-type {\n",
       "        vertical-align: middle;\n",
       "    }\n",
       "\n",
       "    .dataframe tbody tr th {\n",
       "        vertical-align: top;\n",
       "    }\n",
       "\n",
       "    .dataframe thead th {\n",
       "        text-align: right;\n",
       "    }\n",
       "</style>\n",
       "<table border=\"1\" class=\"dataframe\">\n",
       "  <thead>\n",
       "    <tr style=\"text-align: right;\">\n",
       "      <th></th>\n",
       "      <th>filename</th>\n",
       "      <th>file_size</th>\n",
       "      <th>file_attributes</th>\n",
       "      <th>region_count</th>\n",
       "      <th>region_id</th>\n",
       "      <th>region_shape_attributes</th>\n",
       "      <th>region_attributes</th>\n",
       "    </tr>\n",
       "  </thead>\n",
       "  <tbody>\n",
       "    <tr>\n",
       "      <th>0</th>\n",
       "      <td>019_gaze_utensils.png</td>\n",
       "      <td>1324677</td>\n",
       "      <td>{\"caption\":\"\",\"public_domain\":\"no\",\"image_url\"...</td>\n",
       "      <td>1</td>\n",
       "      <td>0</td>\n",
       "      <td>{\"name\":\"point\",\"cx\":1080,\"cy\":147}</td>\n",
       "      <td>{\"name\":\"head_pos\",\"image_quality\":{\"good_illu...</td>\n",
       "    </tr>\n",
       "    <tr>\n",
       "      <th>1</th>\n",
       "      <td>019_gaze_undetermined.png</td>\n",
       "      <td>1409888</td>\n",
       "      <td>{\"caption\":\"\",\"public_domain\":\"no\",\"image_url\"...</td>\n",
       "      <td>1</td>\n",
       "      <td>0</td>\n",
       "      <td>{\"name\":\"point\",\"cx\":1031,\"cy\":73}</td>\n",
       "      <td>{\"name\":\"head_pos\",\"image_quality\":{\"good_illu...</td>\n",
       "    </tr>\n",
       "    <tr>\n",
       "      <th>2</th>\n",
       "      <td>019_gaze_spontaneous.png</td>\n",
       "      <td>1338064</td>\n",
       "      <td>{\"caption\":\"\",\"public_domain\":\"no\",\"image_url\"...</td>\n",
       "      <td>1</td>\n",
       "      <td>0</td>\n",
       "      <td>{\"name\":\"point\",\"cx\":1245,\"cy\":176}</td>\n",
       "      <td>{\"name\":\"head_pos\",\"image_quality\":{\"blur\":tru...</td>\n",
       "    </tr>\n",
       "    <tr>\n",
       "      <th>3</th>\n",
       "      <td>019_gaze_food.png</td>\n",
       "      <td>1290376</td>\n",
       "      <td>{\"caption\":\"\",\"public_domain\":\"no\",\"image_url\"...</td>\n",
       "      <td>1</td>\n",
       "      <td>0</td>\n",
       "      <td>{\"name\":\"point\",\"cx\":1118,\"cy\":147}</td>\n",
       "      <td>{\"name\":\"head_pos\",\"image_quality\":{\"good_illu...</td>\n",
       "    </tr>\n",
       "    <tr>\n",
       "      <th>4</th>\n",
       "      <td>019_gaze_bottle.png</td>\n",
       "      <td>1388652</td>\n",
       "      <td>{\"caption\":\"\",\"public_domain\":\"no\",\"image_url\"...</td>\n",
       "      <td>1</td>\n",
       "      <td>0</td>\n",
       "      <td>{\"name\":\"point\",\"cx\":996,\"cy\":134}</td>\n",
       "      <td>{\"name\":\"head_pos\",\"image_quality\":{\"good_illu...</td>\n",
       "    </tr>\n",
       "  </tbody>\n",
       "</table>\n",
       "</div>"
      ],
      "text/plain": [
       "                    filename  file_size  \\\n",
       "0      019_gaze_utensils.png    1324677   \n",
       "1  019_gaze_undetermined.png    1409888   \n",
       "2   019_gaze_spontaneous.png    1338064   \n",
       "3          019_gaze_food.png    1290376   \n",
       "4        019_gaze_bottle.png    1388652   \n",
       "\n",
       "                                     file_attributes  region_count  region_id  \\\n",
       "0  {\"caption\":\"\",\"public_domain\":\"no\",\"image_url\"...             1          0   \n",
       "1  {\"caption\":\"\",\"public_domain\":\"no\",\"image_url\"...             1          0   \n",
       "2  {\"caption\":\"\",\"public_domain\":\"no\",\"image_url\"...             1          0   \n",
       "3  {\"caption\":\"\",\"public_domain\":\"no\",\"image_url\"...             1          0   \n",
       "4  {\"caption\":\"\",\"public_domain\":\"no\",\"image_url\"...             1          0   \n",
       "\n",
       "               region_shape_attributes  \\\n",
       "0  {\"name\":\"point\",\"cx\":1080,\"cy\":147}   \n",
       "1   {\"name\":\"point\",\"cx\":1031,\"cy\":73}   \n",
       "2  {\"name\":\"point\",\"cx\":1245,\"cy\":176}   \n",
       "3  {\"name\":\"point\",\"cx\":1118,\"cy\":147}   \n",
       "4   {\"name\":\"point\",\"cx\":996,\"cy\":134}   \n",
       "\n",
       "                                   region_attributes  \n",
       "0  {\"name\":\"head_pos\",\"image_quality\":{\"good_illu...  \n",
       "1  {\"name\":\"head_pos\",\"image_quality\":{\"good_illu...  \n",
       "2  {\"name\":\"head_pos\",\"image_quality\":{\"blur\":tru...  \n",
       "3  {\"name\":\"head_pos\",\"image_quality\":{\"good_illu...  \n",
       "4  {\"name\":\"head_pos\",\"image_quality\":{\"good_illu...  "
      ]
     },
     "execution_count": 17,
     "metadata": {},
     "output_type": "execute_result"
    }
   ],
   "source": [
    "head_data.head()"
   ]
  },
  {
   "cell_type": "markdown",
   "metadata": {},
   "source": [
    "The required ground truth data are:\n",
    "- filename\n",
    "    - This represents the image file at hand.\n",
    "    - Use filename instead of image for a better construction of ground truth annotation.\n",
    "- cx,cy\n",
    "    - This represents the location of the head_pos\n",
    "    - Placed in region_shape_attributtes"
   ]
  },
  {
   "cell_type": "code",
   "execution_count": 18,
   "metadata": {},
   "outputs": [
    {
     "data": {
      "text/plain": [
       "'019_gaze_utensils.png'"
      ]
     },
     "execution_count": 18,
     "metadata": {},
     "output_type": "execute_result"
    }
   ],
   "source": [
    "# Get a filename\n",
    "filename = head_data.iloc[0,0]\n",
    "filename"
   ]
  },
  {
   "cell_type": "code",
   "execution_count": 19,
   "metadata": {},
   "outputs": [],
   "source": [
    "# Get the cx,cy\n",
    "region_attr = head_data.iloc[0,5]\n",
    "\n",
    "# Convert to pandas DataFrame for easy exploration\n",
    "region = json.loads(region_attr)\n",
    "cx = region['cx']\n",
    "cy = region['cy']"
   ]
  },
  {
   "cell_type": "code",
   "execution_count": 20,
   "metadata": {},
   "outputs": [
    {
     "data": {
      "text/plain": [
       "{'image': Array([[[224, 214, 203],\n",
       "         [224, 214, 203],\n",
       "         [224, 214, 203],\n",
       "         ...,\n",
       "         [171, 197, 191],\n",
       "         [170, 196, 190],\n",
       "         [169, 194, 189]],\n",
       " \n",
       "        [[224, 214, 203],\n",
       "         [224, 214, 203],\n",
       "         [224, 214, 203],\n",
       "         ...,\n",
       "         [170, 196, 190],\n",
       "         [169, 195, 189],\n",
       "         [169, 194, 189]],\n",
       " \n",
       "        [[225, 215, 203],\n",
       "         [225, 215, 203],\n",
       "         [225, 214, 203],\n",
       "         ...,\n",
       "         [169, 195, 189],\n",
       "         [168, 195, 189],\n",
       "         [168, 195, 189]],\n",
       " \n",
       "        ...,\n",
       " \n",
       "        [[ 30,  30,  30],\n",
       "         [ 30,  30,  30],\n",
       "         [ 30,  30,  30],\n",
       "         ...,\n",
       "         [122, 135, 137],\n",
       "         [122, 135, 137],\n",
       "         [122, 135, 137]],\n",
       " \n",
       "        [[ 30,  30,  30],\n",
       "         [ 30,  30,  30],\n",
       "         [ 30,  30,  30],\n",
       "         ...,\n",
       "         [120, 134, 135],\n",
       "         [120, 134, 135],\n",
       "         [120, 134, 135]],\n",
       " \n",
       "        [[ 30,  30,  30],\n",
       "         [ 30,  30,  30],\n",
       "         [ 30,  30,  30],\n",
       "         ...,\n",
       "         [118, 132, 133],\n",
       "         [118, 132, 133],\n",
       "         [118, 132, 133]]], dtype=uint8), 'position': [1080, 147]}"
      ]
     },
     "execution_count": 20,
     "metadata": {},
     "output_type": "execute_result"
    }
   ],
   "source": [
    "idx = 1\n",
    "root_dir = '../dsp_intent_analyzer_dataset/head_data'\n",
    "\n",
    "# Format of the Ground Truth\n",
    "item = {}\n",
    "\n",
    "img_path = os.path.join(root_dir, head_data.iloc[0,0])\n",
    "item['image'] = io.imread(img_path)\n",
    "item['position'] = [region['cx'], region['cy']]\n",
    "\n",
    "item"
   ]
  },
  {
   "cell_type": "markdown",
   "metadata": {},
   "source": [
    "Now, we are good for head_data exploration."
   ]
  },
  {
   "cell_type": "code",
   "execution_count": 31,
   "metadata": {},
   "outputs": [
    {
     "data": {
      "text/html": [
       "<div>\n",
       "<style scoped>\n",
       "    .dataframe tbody tr th:only-of-type {\n",
       "        vertical-align: middle;\n",
       "    }\n",
       "\n",
       "    .dataframe tbody tr th {\n",
       "        vertical-align: top;\n",
       "    }\n",
       "\n",
       "    .dataframe thead th {\n",
       "        text-align: right;\n",
       "    }\n",
       "</style>\n",
       "<table border=\"1\" class=\"dataframe\">\n",
       "  <thead>\n",
       "    <tr style=\"text-align: right;\">\n",
       "      <th></th>\n",
       "      <th>filename</th>\n",
       "      <th>file_size</th>\n",
       "      <th>file_attributes</th>\n",
       "      <th>region_count</th>\n",
       "      <th>region_id</th>\n",
       "      <th>region_shape_attributes</th>\n",
       "      <th>region_attributes</th>\n",
       "    </tr>\n",
       "  </thead>\n",
       "  <tbody>\n",
       "    <tr>\n",
       "      <th>0</th>\n",
       "      <td>019_gaze_utensils.png</td>\n",
       "      <td>1324677</td>\n",
       "      <td>{}</td>\n",
       "      <td>36</td>\n",
       "      <td>0</td>\n",
       "      <td>{\"name\":\"rect\",\"x\":74,\"y\":422,\"width\":322,\"hei...</td>\n",
       "      <td>{\"backpack\":\"25\"}</td>\n",
       "    </tr>\n",
       "    <tr>\n",
       "      <th>1</th>\n",
       "      <td>019_gaze_utensils.png</td>\n",
       "      <td>1324677</td>\n",
       "      <td>{}</td>\n",
       "      <td>36</td>\n",
       "      <td>1</td>\n",
       "      <td>{\"name\":\"rect\",\"x\":33,\"y\":912,\"width\":274,\"hei...</td>\n",
       "      <td>{\"backpack\":\"74\"}</td>\n",
       "    </tr>\n",
       "    <tr>\n",
       "      <th>2</th>\n",
       "      <td>019_gaze_utensils.png</td>\n",
       "      <td>1324677</td>\n",
       "      <td>{}</td>\n",
       "      <td>36</td>\n",
       "      <td>2</td>\n",
       "      <td>{\"name\":\"rect\",\"x\":527,\"y\":773,\"width\":24,\"hei...</td>\n",
       "      <td>{\"backpack\":\"80\"}</td>\n",
       "    </tr>\n",
       "    <tr>\n",
       "      <th>3</th>\n",
       "      <td>019_gaze_utensils.png</td>\n",
       "      <td>1324677</td>\n",
       "      <td>{}</td>\n",
       "      <td>36</td>\n",
       "      <td>3</td>\n",
       "      <td>{\"name\":\"rect\",\"x\":622,\"y\":669,\"width\":104,\"he...</td>\n",
       "      <td>{\"backpack\":\"40\"}</td>\n",
       "    </tr>\n",
       "    <tr>\n",
       "      <th>4</th>\n",
       "      <td>019_gaze_utensils.png</td>\n",
       "      <td>1324677</td>\n",
       "      <td>{}</td>\n",
       "      <td>36</td>\n",
       "      <td>4</td>\n",
       "      <td>{\"name\":\"rect\",\"x\":787,\"y\":849,\"width\":92,\"hei...</td>\n",
       "      <td>{\"backpack\":\"68\"}</td>\n",
       "    </tr>\n",
       "  </tbody>\n",
       "</table>\n",
       "</div>"
      ],
      "text/plain": [
       "                filename  file_size file_attributes  region_count  region_id  \\\n",
       "0  019_gaze_utensils.png    1324677              {}            36          0   \n",
       "1  019_gaze_utensils.png    1324677              {}            36          1   \n",
       "2  019_gaze_utensils.png    1324677              {}            36          2   \n",
       "3  019_gaze_utensils.png    1324677              {}            36          3   \n",
       "4  019_gaze_utensils.png    1324677              {}            36          4   \n",
       "\n",
       "                             region_shape_attributes  region_attributes  \n",
       "0  {\"name\":\"rect\",\"x\":74,\"y\":422,\"width\":322,\"hei...  {\"backpack\":\"25\"}  \n",
       "1  {\"name\":\"rect\",\"x\":33,\"y\":912,\"width\":274,\"hei...  {\"backpack\":\"74\"}  \n",
       "2  {\"name\":\"rect\",\"x\":527,\"y\":773,\"width\":24,\"hei...  {\"backpack\":\"80\"}  \n",
       "3  {\"name\":\"rect\",\"x\":622,\"y\":669,\"width\":104,\"he...  {\"backpack\":\"40\"}  \n",
       "4  {\"name\":\"rect\",\"x\":787,\"y\":849,\"width\":92,\"hei...  {\"backpack\":\"68\"}  "
      ]
     },
     "execution_count": 31,
     "metadata": {},
     "output_type": "execute_result"
    }
   ],
   "source": [
    "# Extract Object data using csv_file\n",
    "csv_file = '../dsp_intent_analyzer_dataset/object_data.csv'\n",
    "object_data = pd.read_csv(csv_file)\n",
    "\n",
    "object_data.head()"
   ]
  },
  {
   "cell_type": "code",
   "execution_count": 43,
   "metadata": {},
   "outputs": [],
   "source": [
    "# Parameter\n",
    "idx = 1\n",
    "file_idx = 0\n",
    "cls_idx = 6\n",
    "offset_idx = 5"
   ]
  },
  {
   "cell_type": "code",
   "execution_count": 44,
   "metadata": {},
   "outputs": [
    {
     "data": {
      "text/plain": [
       "'019_gaze_utensils.png'"
      ]
     },
     "execution_count": 44,
     "metadata": {},
     "output_type": "execute_result"
    }
   ],
   "source": [
    "# Extracting filename\n",
    "object_data.iloc[idx,file_idx]"
   ]
  },
  {
   "cell_type": "code",
   "execution_count": 49,
   "metadata": {},
   "outputs": [
    {
     "data": {
      "text/plain": [
       "74"
      ]
     },
     "execution_count": 49,
     "metadata": {},
     "output_type": "execute_result"
    }
   ],
   "source": [
    "# Extracting the class\n",
    "region_cls = json.loads(object_data.iloc[idx,cls_idx])\n",
    "y_cls = int(region_cls['backpack'])\n",
    "y_cls"
   ]
  },
  {
   "cell_type": "code",
   "execution_count": null,
   "metadata": {},
   "outputs": [],
   "source": [
    "# Extracting the object\n",
    "region_offset = json.loads(object_data.iloc[idx,offset_idx])\n",
    "xmin = int(region_offset['x'])\n",
    "ymin = int(region_offset['y'])\n",
    "xmax = xmin + int(region_offset['width'])\n",
    "ymax = ymin + int(region_offset['height'])\n",
    "origin = (xmin,ymin)\n",
    "endpt  = (xmax,ymax)\n",
    "y_offset = [origin,endpt]\n",
    "y_offset"
   ]
  },
  {
   "cell_type": "code",
   "execution_count": null,
   "metadata": {},
   "outputs": [],
   "source": []
  },
  {
   "cell_type": "code",
   "execution_count": null,
   "metadata": {},
   "outputs": [],
   "source": []
  },
  {
   "cell_type": "markdown",
   "metadata": {},
   "source": [
    "#### Archived"
   ]
  },
  {
   "cell_type": "code",
   "execution_count": 48,
   "metadata": {},
   "outputs": [],
   "source": [
    "# # # For JSON files\n",
    "# ## Extract Object Data\n",
    "# json_path = '../dsp_intent_analyzer_dataset/object_data.json'\n",
    "\n",
    "# with open(json_path) as json_tmp:\n",
    "#     json_file = json.load(json_tmp)\n",
    "#     object_data = pd.DataFrame().from_dict(json_file['_via_img_metadata']).T\n",
    "\n",
    "# object_data.head()\n",
    "\n",
    "# # Extracting the offset\n",
    "# y_offset = json.loads(object_data.iloc[idx,atr])\n",
    "# def side_len_2_minmax(shape_attr):\n",
    "#     \"\"\"\n",
    "#     Args: Shape attributes: bbox metadata\n",
    "#     returns the upper_right and lower_left pixel location\n",
    "#     \"\"\"\n",
    "    \n",
    "#     xmin = shape_attr['x']\n",
    "#     ymin = shape_attr['y']\n",
    "#     xmax = shape_attr['x'] + shape_attr['width']\n",
    "#     ymax = shape_attr['y'] + shape_attr['height']\n",
    "    \n",
    "#     return xmin,ymin,xmax,ymax\n",
    "\n",
    "# side_len_2_minmax(tmp['shape_attributes'])\n",
    "\n",
    "# # Index\n",
    "# idx = 1\n",
    "# attr_idx = 2\n",
    "# root_dir = '../dsp_intent_analyzer_dataset/object_data'\n",
    "\n",
    "# # Format the ground truth\n",
    "# item = {}\n",
    "# filename = object_data.iloc[idx,0]\n",
    "# filepath = os.path.join(root_dir, filename)\n",
    "# item['image'] = io.imread(filepath)\n",
    "\n",
    "# # Iterate through the objects in the image\n",
    "# # len(object_data.iloc[idx,attr_idx])\n",
    "# i = 1\n",
    "\n",
    "# # object category\n",
    "# item['cat'] = object_data.iloc[idx,attr_idx][i]['region_attributes']['backpack']\n",
    "\n",
    "# # Bbox location\n",
    "# (xmin, ymin, xmax, ymax) = side_len_2_minmax(object_data.iloc[idx,attr_idx][i]['shape_attributes'])\n",
    "# item['bbox'] = (xmin,ymin,xmax,ymax)\n",
    "# item\n",
    "\n",
    "# # View the image\n",
    "# import matplotlib.patches as mpatches\n",
    "# import matplotlib.pyplot as plt\n",
    "\n",
    "# image_label_overlay = item['image']\n",
    "\n",
    "# fig, ax = plt.subplots(figsize=(10, 6))\n",
    "# ax.imshow(image_label_overlay)\n",
    "# rect = mpatches.Rectangle((xmin, ymin), xmax - xmin, ymax - ymin,\n",
    "#                                   fill=False, edgecolor='red', linewidth=2)\n",
    "# ax.add_patch(rect)\n"
   ]
  },
  {
   "cell_type": "code",
   "execution_count": null,
   "metadata": {},
   "outputs": [],
   "source": []
  },
  {
   "cell_type": "code",
   "execution_count": null,
   "metadata": {},
   "outputs": [],
   "source": []
  },
  {
   "cell_type": "code",
   "execution_count": null,
   "metadata": {},
   "outputs": [],
   "source": []
  }
 ],
 "metadata": {
  "kernelspec": {
   "display_name": "Python 3",
   "language": "python",
   "name": "python3"
  },
  "language_info": {
   "codemirror_mode": {
    "name": "ipython",
    "version": 3
   },
   "file_extension": ".py",
   "mimetype": "text/x-python",
   "name": "python",
   "nbconvert_exporter": "python",
   "pygments_lexer": "ipython3",
   "version": "3.7.6"
  }
 },
 "nbformat": 4,
 "nbformat_minor": 4
}
